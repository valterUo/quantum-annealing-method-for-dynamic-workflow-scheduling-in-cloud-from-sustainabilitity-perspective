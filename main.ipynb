{
 "cells": [
  {
   "cell_type": "markdown",
   "id": "32b54597-5c5b-4642-8fc1-8d37f2000d34",
   "metadata": {},
   "source": [
    "# Quantum Annealing Method for Dynamic Virtual Machine and Task Allocation in Cloud Infrastructures from Sustainability Perspective"
   ]
  },
  {
   "cell_type": "markdown",
   "id": "38ff5fbf-ffce-46e1-a458-777b22a9df97",
   "metadata": {},
   "source": [
    "   #### Valter Uotila, Jiaheng Lu\n",
    "    Unified Database Management Systems research group\n",
    "    Department of Computer Science\n",
    "    University of Helsinki\n",
    "    Finland\n",
    "\n",
    "The initial version of this work won the Most Creative Open Hackathon Experiment on Braket in Amazon Braket Challenge and Third place in IBM Qiskit Challenge at the QHack quantum computing hackathon organized by Xanadu in the spring of 2022."
   ]
  },
  {
   "cell_type": "code",
   "execution_count": 1,
   "id": "47516b37-f207-4452-a72d-26648536a697",
   "metadata": {},
   "outputs": [],
   "source": [
    "import dimod\n",
    "from dimod.generators.constraints import combinations\n",
    "from dwave.system import LeapHybridSampler\n",
    "from hybrid.reference import KerberosSampler\n",
    "\n",
    "import itertools\n",
    "import math\n",
    "import json\n",
    "\n",
    "from flask import Flask\n",
    "from flask import request"
   ]
  },
  {
   "cell_type": "markdown",
   "id": "86917fed-68f7-4097-a77e-18491abf30a6",
   "metadata": {},
   "source": [
    "## Useful functions"
   ]
  },
  {
   "cell_type": "code",
   "execution_count": 2,
   "id": "54e5a536-4024-4db1-a82f-f44175d94896",
   "metadata": {},
   "outputs": [],
   "source": [
    "def construct_variables(datacenter_state, previous_state = []):\n",
    "    variables = set()\n",
    "    for task in datacenter_state[\"cloudlets\"]:\n",
    "        for vm in datacenter_state[\"vms\"]:\n",
    "            if previous_state != []:\n",
    "                for var in previous_state:\n",
    "                    if int(task) == int(var[0]) and int(vm) == int(var[1]):\n",
    "                        for pm in datacenter_state[\"hosts\"]:\n",
    "                            variables.add((int(task), int(vm), int(pm)))\n",
    "            else:\n",
    "                for pm in datacenter_state[\"hosts\"]:\n",
    "                    variables.add((int(task), int(vm), int(pm)))\n",
    "    return list(variables)"
   ]
  },
  {
   "cell_type": "code",
   "execution_count": 3,
   "id": "80af30f2-522c-435d-bcbd-c08b7771fa47",
   "metadata": {},
   "outputs": [],
   "source": [
    "def group_by(variables, index):\n",
    "    groups = {}\n",
    "    for var in variables:\n",
    "        if var[index] in groups:\n",
    "            groups[var[index]].append(var)\n",
    "        else:\n",
    "            groups[var[index]] = [var]\n",
    "    return groups"
   ]
  },
  {
   "cell_type": "code",
   "execution_count": 4,
   "id": "382021ee-fa24-4cbe-b345-60ec39bc01f6",
   "metadata": {},
   "outputs": [],
   "source": [
    "def construct_previous_state(datacenter_state, first_run):\n",
    "    vm_pm_state = []\n",
    "    state = []\n",
    "    if not first_run:\n",
    "        for vm in datacenter_state[\"vms\"]:\n",
    "            vm_pm_state.append((vm, datacenter_state[\"vms\"][vm][\"hostid\"]))\n",
    "        for cloudlet in datacenter_state[\"cloudlets\"]:\n",
    "            cloudlet_id = datacenter_state[\"cloudlets\"][cloudlet][\"cloudletId\"]\n",
    "            cloudlet_vm = datacenter_state[\"cloudlets\"][cloudlet][\"vmId\"]\n",
    "            for vm_pm in vm_pm_state:\n",
    "                if int(vm_pm[0]) == int(cloudlet_vm):\n",
    "                    state.append((cloudlet_id, vm_pm[0], vm_pm[1]))\n",
    "    return state"
   ]
  },
  {
   "cell_type": "code",
   "execution_count": 5,
   "id": "0901a4f6-065f-4ec0-b23d-43a020a9b1d4",
   "metadata": {},
   "outputs": [],
   "source": [
    "def print_solution(sample):\n",
    "    for varname, value in sample.items():\n",
    "        if value == 1:\n",
    "            print(varname, value)"
   ]
  },
  {
   "cell_type": "code",
   "execution_count": 6,
   "id": "5986d91b-e657-470d-8869-1d392bddff8b",
   "metadata": {},
   "outputs": [],
   "source": [
    "def construct_migration_map(solution):\n",
    "    migration_map = {}\n",
    "    for varname, value in solution.items():\n",
    "        if value == 1:\n",
    "            migration_map[str(varname[1])] = str(varname[2]) \n",
    "    return migration_map"
   ]
  },
  {
   "cell_type": "code",
   "execution_count": 7,
   "id": "8dc602e7-720a-480e-ac3d-62266ce68ecc",
   "metadata": {},
   "outputs": [],
   "source": [
    "def construct_task_allocation_map(solution):\n",
    "    task_allocation_map = {}\n",
    "    for varname, value in solution.items():\n",
    "        if value == 1:\n",
    "            task_allocation_map[str(varname[0])] = str(varname[1]) \n",
    "    return task_allocation_map"
   ]
  },
  {
   "cell_type": "markdown",
   "id": "f54dd949-935d-488e-8b72-028e0218ef9d",
   "metadata": {},
   "source": [
    "## Metrics"
   ]
  },
  {
   "cell_type": "markdown",
   "id": "7a1f7c8b-61b1-4faa-babd-68b56e873d0d",
   "metadata": {},
   "source": [
    "These metrics can be modified based on the cloud infrastructure."
   ]
  },
  {
   "cell_type": "code",
   "execution_count": 8,
   "id": "fdc2a9e5-58df-4732-a408-42a38bd4c5e4",
   "metadata": {},
   "outputs": [],
   "source": [
    "def price(t, v, datacenter_state):\n",
    "    return 0"
   ]
  },
  {
   "cell_type": "code",
   "execution_count": 9,
   "id": "421a6962-3036-437d-9d5e-0f77cf0204ab",
   "metadata": {},
   "outputs": [],
   "source": [
    "def get_task_mips(task_id, datacenter_state):\n",
    "    return datacenter_state[\"cloudlets\"][str(task_id)][\"totalLength\"]\n",
    "\n",
    "def get_vm_mips(vm_id, datacenter_state):\n",
    "    return datacenter_state[\"vms\"][str(vm_id)][\"mips\"]\n",
    "\n",
    "def get_pm_mips(pm_id, datacenter_state):\n",
    "    return datacenter_state[\"hosts\"][str(pm_id)][\"mips\"]\n",
    "\n",
    "def get_pm_power(pm_id, datacenter_state):\n",
    "    return datacenter_state[\"hosts\"][str(pm_id)][\"power\"]\n",
    "\n",
    "def get_vm_bw(vm_id, datacenter_state):\n",
    "    return datacenter_state[\"vms\"][str(vm_id)][\"bw\"]\n",
    "\n",
    "def get_pm_bw(pm_id, datacenter_state):\n",
    "    return datacenter_state[\"hosts\"][str(pm_id)][\"availableBw\"]\n",
    "\n",
    "def get_sustainability_scaling_value(pm_id):\n",
    "    return pm_id**2\n",
    "\n",
    "def get_sustainability_offset(pm_id):\n",
    "    return pm_id**3"
   ]
  },
  {
   "cell_type": "code",
   "execution_count": 10,
   "id": "dacdd037-6091-4f30-983b-658eaa238eca",
   "metadata": {},
   "outputs": [],
   "source": [
    "def sustainability(t, v, m, datacenter_state):\n",
    "    # (VM mips / PM MIPS)*max power for PM*sustainability scaling value for power production + carbon footprint offset\n",
    "    power =  get_pm_power(m, datacenter_state)\n",
    "    v_mips = get_vm_mips(v, datacenter_state)\n",
    "    m_mips = get_pm_mips(m, datacenter_state)\n",
    "    \n",
    "    scaling_value = get_sustainability_scaling_value(m)\n",
    "    offset = get_sustainability_offset(m)\n",
    "    \n",
    "    carbon_footprint = (v_mips / m_mips)*power*scaling_value + offset\n",
    "    \n",
    "    return carbon_footprint"
   ]
  },
  {
   "cell_type": "code",
   "execution_count": 11,
   "id": "fdcbc70f-5258-4bc8-be9b-45a3067d2833",
   "metadata": {},
   "outputs": [],
   "source": [
    "def migration_cost(to_var, from_var, datacenter_state):\n",
    "    # Determining migration cost is a bit open question in the implementation\n",
    "    # Energy and carbon footprint\n",
    "    # Time and resources\n",
    "    # VM size / available bandwidth\n",
    "    \n",
    "    if to_var == from_var:\n",
    "        return 0\n",
    "    \n",
    "    cost = 0\n",
    "    vm_bw = get_vm_bw(from_var[1], datacenter_state)\n",
    "    pm_bw = get_pm_bw(to_var[2], datacenter_state)\n",
    "    \n",
    "    if vm_bw > pm_bw:\n",
    "        cost = 1000000\n",
    "    else:\n",
    "        cost = pm_bw - vm_bw\n",
    "    \n",
    "    return cost"
   ]
  },
  {
   "cell_type": "markdown",
   "id": "7212da4c-a79f-40cc-b9bc-18dd93afb8a9",
   "metadata": {},
   "source": [
    "## Constraints"
   ]
  },
  {
   "cell_type": "markdown",
   "id": "f1562750-fae2-4f54-9ed0-c30321f28774",
   "metadata": {},
   "source": [
    "### Hard constraints\n",
    "\n",
    "Violation of these constraints is not technically possible and these constraints should have high priority in order that the solution is even valid. These constraints are forced to be true by adjust the `strength` constant."
   ]
  },
  {
   "cell_type": "markdown",
   "id": "055ee487-2487-4fc2-b38f-468f7de97959",
   "metadata": {},
   "source": [
    "#### Constraint: every task executed on a single virtual machine"
   ]
  },
  {
   "cell_type": "code",
   "execution_count": 12,
   "id": "d0c1c3f1-26d2-4353-97ee-26ad3d21e383",
   "metadata": {},
   "outputs": [],
   "source": [
    "def every_task_executed_on_single_vm(variables, bqm):\n",
    "    strength = 10000000\n",
    "    groups = group_by(variables, 0)\n",
    "    for group in groups:\n",
    "        combs = combinations(groups[group], 1, strength)\n",
    "        bqm.update(combs)\n",
    "    return bqm"
   ]
  },
  {
   "cell_type": "markdown",
   "id": "cad58853-2978-4890-bfb3-d2c6424aa19a",
   "metadata": {},
   "source": [
    "#### Constraint: every virtual machine runs on single physical machine"
   ]
  },
  {
   "cell_type": "code",
   "execution_count": 13,
   "id": "33f5ae9e-6fc1-4b3e-aba4-cfa6a4ea8810",
   "metadata": {},
   "outputs": [],
   "source": [
    "def every_vm_runs_on_single_pm(variables, bqm):\n",
    "    strength = 10000000\n",
    "    groups = group_by(variables, 1)\n",
    "    for group in groups:\n",
    "        combs = combinations(groups[group], 1, strength)\n",
    "        bqm.update(combs)\n",
    "    return bqm"
   ]
  },
  {
   "cell_type": "markdown",
   "id": "688f263e-5dc1-44b9-8a75-30608775b3e0",
   "metadata": {},
   "source": [
    "### Soft constraints\n",
    "\n",
    "Violation of these constraints is possible but not desired. The mimization of these constraints makes the solution more optimal."
   ]
  },
  {
   "cell_type": "markdown",
   "id": "af6757b6-cbc1-4165-b7df-be83b534e4a9",
   "metadata": {},
   "source": [
    "#### Constraint: The available virtual machines should be utilized efficiently "
   ]
  },
  {
   "cell_type": "markdown",
   "id": "bd7431ca-0487-4a8d-b918-d1b9965f08ea",
   "metadata": {},
   "source": [
    "Since cloudlet MIPS > VM MIPS, we aim to position cloudlets to virtual machines so that cloudlets' total running time is minimized."
   ]
  },
  {
   "cell_type": "code",
   "execution_count": 14,
   "id": "65c5e525-dc77-4926-b9a3-de3605574f4d",
   "metadata": {},
   "outputs": [],
   "source": [
    "def maximize_vm_utilization(variables, bqm, datacenter_state):\n",
    "    vms = group_by(variables, 1)\n",
    "    linear = dict()\n",
    "    quadratic = dict()\n",
    "    offset = 0.0\n",
    "    A = 2\n",
    "    \n",
    "    for vm in vms:\n",
    "        quadratic_terms = itertools.combinations(vms[vm], 2)\n",
    "        total_for_this_vm = get_vm_mips(vm, datacenter_state)\n",
    "        offset += total_for_this_vm**2\n",
    "        \n",
    "        # Quadratic terms\n",
    "        for t in quadratic_terms:\n",
    "            task1, task2 = t[0][0], t[1][0]\n",
    "            quadratic[t] = 2*get_task_mips(task1, datacenter_state)*get_task_mips(task2, datacenter_state)\n",
    "            \n",
    "        # Linear terms\n",
    "        for var in vms[vm]:\n",
    "            task = var[0]\n",
    "            linear[var] = get_task_mips(task, datacenter_state)**2 - 2*total_for_this_vm\n",
    "            \n",
    "    bqm_migration = dimod.BinaryQuadraticModel(linear, quadratic, offset, dimod.BINARY)\n",
    "    bqm_migration.scale(A)\n",
    "    bqm.update(bqm_migration)\n",
    "    return bqm"
   ]
  },
  {
   "cell_type": "markdown",
   "id": "958acf55-6900-4240-af18-b2755f44d57d",
   "metadata": {
    "tags": []
   },
   "source": [
    "#### Constraint: The available physical machines should be utilized efficiently\n",
    "\n",
    "This step aims to optimize the virtual machine allocation by allocating virtual machines to physical machines so that the execution time is minimized. The execution time is estimated by considering task sizes on virtual machines in MIPS and considering virtual machine sizes on physical machines in MIPS. When the physical resources are utilized efficiently, the running time is minimized."
   ]
  },
  {
   "cell_type": "markdown",
   "id": "4e4bacfb-e32f-4c6d-bb34-ab54f09e468d",
   "metadata": {},
   "source": [
    "It is important that VM MIPS < PM MIPS. If the condition is not satisfied, no VM is allocated to a PM."
   ]
  },
  {
   "cell_type": "code",
   "execution_count": 15,
   "id": "7da3c664-ebdd-4452-8420-c251b2f9d558",
   "metadata": {},
   "outputs": [],
   "source": [
    "def maximize_pm_utilization(variables, bqm, datacenter_state):\n",
    "    pms = group_by(variables, 2)\n",
    "    linear = dict()\n",
    "    quadratic = dict()\n",
    "    offset = 0.0\n",
    "    A = 2\n",
    "    \n",
    "    for p in pms:\n",
    "        quadratic_terms = itertools.combinations(pms[p], 2)\n",
    "        total_for_this_pm = get_pm_mips(p, datacenter_state)\n",
    "        offset += total_for_this_pm**2\n",
    "\n",
    "        # Quadratic terms\n",
    "        for t in quadratic_terms:\n",
    "            vm1, vm2 = t[0][1], t[1][1]\n",
    "            quadratic[t] = 2*get_vm_mips(vm1, datacenter_state)*get_vm_mips(vm2, datacenter_state)\n",
    "\n",
    "        # Linear terms\n",
    "        for var in pms[p]:\n",
    "            vm = var[1]\n",
    "            linear[var] = get_vm_mips(vm, datacenter_state)**2 - 2*total_for_this_pm\n",
    "    \n",
    "    bqm_migration = dimod.BinaryQuadraticModel(linear, quadratic, offset, dimod.BINARY)\n",
    "    bqm_migration.scale(A)\n",
    "    bqm.update(bqm_migration)\n",
    "    return bqm"
   ]
  },
  {
   "cell_type": "markdown",
   "id": "21c6df3f-6fe3-476b-93a8-e122462be16a",
   "metadata": {
    "tags": []
   },
   "source": [
    "#### Constraint: migration cost between machines should be minimized\n",
    "\n",
    "Virtual machine allocations after the initial step can be migrated between the physical machines in the cloud infrastructure."
   ]
  },
  {
   "cell_type": "code",
   "execution_count": 16,
   "id": "3e01a2bc-5f2c-4049-a33d-98b9273b1319",
   "metadata": {},
   "outputs": [],
   "source": [
    "def minimize_migration_cost(variables, previous_state, bqm, datacenter_state):\n",
    "    A = 20\n",
    "    linear = dict()\n",
    "    quadratic = dict()\n",
    "    to_vms = group_by(variables, 1)\n",
    "    from_vms = previous_state\n",
    "\n",
    "    for from_vm in from_vms:\n",
    "        for to_vm in to_vms:\n",
    "            for to_vm_var in to_vms[to_vm]:\n",
    "                linear[to_vm_var] = migration_cost(to_vm_var, from_vm, datacenter_state)\n",
    "    \n",
    "    bqm_migration = dimod.BinaryQuadraticModel(linear, quadratic, 0.0, dimod.BINARY)\n",
    "    bqm_migration.scale(A)\n",
    "    bqm.update(bqm_migration)\n",
    "    return bqm"
   ]
  },
  {
   "cell_type": "markdown",
   "id": "22babd85-944a-483d-9aa8-9cc7a2a585fe",
   "metadata": {},
   "source": [
    "#### Constraint: power consumption should be minimized\n",
    "\n",
    "Since previous research has especially focused on power consumption (instead of sustainability), we implement also a constraint to minimize it. This makes the implementation comparable to the power-aware VM allocation algorithms implemented in CloudSim. "
   ]
  },
  {
   "cell_type": "code",
   "execution_count": 17,
   "id": "db70e66a-85d4-4aaa-bfe7-a16b58d5520f",
   "metadata": {},
   "outputs": [],
   "source": [
    "def minimize_power_consumption(variables, bqm, datacenter_state):\n",
    "    A = 1\n",
    "    linear = dict()\n",
    "    for var in variables:\n",
    "        total_power = get_pm_power(var[2], datacenter_state)\n",
    "        vm_mips = get_vm_mips(var[1], datacenter_state)\n",
    "        pm_mips = get_pm_mips(var[2], datacenter_state)\n",
    "        linear[var] = total_power*(vm_mips/pm_mips)\n",
    "        \n",
    "    bqm_migration = dimod.BinaryQuadraticModel(linear, dict(), 0.0, dimod.BINARY)\n",
    "    bqm.scale(A)\n",
    "    bqm.update(bqm_migration)\n",
    "    return bqm"
   ]
  },
  {
   "cell_type": "markdown",
   "id": "b7bda6a8-e8ba-4dca-b0ed-1b539dd8c984",
   "metadata": {},
   "source": [
    "#### Constraint: sustainability should be maximized"
   ]
  },
  {
   "cell_type": "code",
   "execution_count": 18,
   "id": "10cedd08-7dbd-44e1-9740-c1d6da9c95c0",
   "metadata": {},
   "outputs": [],
   "source": [
    "def maximize_sustainability(variables, bqm, datacenter_state):\n",
    "    A = 1\n",
    "    linear = dict()\n",
    "    for var in variables:\n",
    "        linear[var] = sustainability(var[0], var[1], var[2], datacenter_state)\n",
    "        \n",
    "    bqm_migration = dimod.BinaryQuadraticModel(linear, dict(), 0.0, dimod.BINARY)\n",
    "    bqm.scale(A)\n",
    "    bqm.update(bqm_migration)\n",
    "    return bqm"
   ]
  },
  {
   "cell_type": "markdown",
   "id": "111cb435-8bce-4ca6-a5dd-63bcfaa29009",
   "metadata": {},
   "source": [
    "## Optimization on quantum annealer"
   ]
  },
  {
   "cell_type": "code",
   "execution_count": 19,
   "id": "3b0cbd3c-75fa-4792-8017-4a0d65f52430",
   "metadata": {},
   "outputs": [],
   "source": [
    "def initialize():\n",
    "    vartype = dimod.BINARY\n",
    "    linear = dict()\n",
    "    quadratic = dict()\n",
    "    offset = 0.0\n",
    "    bqm = dimod.BinaryQuadraticModel(linear, quadratic, offset, vartype)\n",
    "    return bqm"
   ]
  },
  {
   "cell_type": "code",
   "execution_count": 20,
   "id": "4651e083-5571-44eb-ab59-0b062d28bc19",
   "metadata": {},
   "outputs": [],
   "source": [
    "def solve(bqm, device = \"Simulated\"):\n",
    "    sample = None\n",
    "    bqm.normalize()\n",
    "    if device == \"Simulated\":\n",
    "        sampler = dimod.SimulatedAnnealingSampler()\n",
    "        sampleset = sampler.sample(bqm, num_reads=100)\n",
    "        sample = sampleset.first.sample\n",
    "    elif device == \"Kerberos\":\n",
    "        kerberos_sampler = KerberosSampler().sample(bqm, max_iter=10, convergence=3, qpu_params={'label': 'Task and VM allocation'})\n",
    "        sample = kerberos_sampler.first.sample\n",
    "    elif device == \"LeapHybrid\":\n",
    "        sampler = LeapHybridSampler()\n",
    "        sampleset = sampler.sample(bqm)\n",
    "        sample = sampleset.first.sample\n",
    "    return sample"
   ]
  },
  {
   "cell_type": "code",
   "execution_count": 21,
   "id": "3e7b7e4f-6c31-49dd-9860-23e1fa49fb07",
   "metadata": {},
   "outputs": [],
   "source": [
    "app = Flask(__name__)\n",
    "\n",
    "@app.route(\"/\", methods=['POST'])\n",
    "def optimize_allocation():\n",
    "    datacenter_state = request.get_json()\n",
    "    time = datacenter_state[\"time\"]\n",
    "    interval = datacenter_state[\"interval\"]\n",
    "    first_run = time == 0.0\n",
    "    \n",
    "    previous_state = construct_previous_state(datacenter_state, first_run)\n",
    "    \n",
    "    variables = construct_variables(datacenter_state, previous_state)\n",
    "    \n",
    "    bqm = initialize()\n",
    "    \n",
    "    print(\"The problem contains\", len(variables), \"variables.\")\n",
    "    \n",
    "    print(\"Constructing qubo...\")\n",
    "    bqm = every_task_executed_on_single_vm(variables, bqm)\n",
    "    bqm = every_vm_runs_on_single_pm(variables, bqm)\n",
    "    bqm = maximize_pm_utilization(variables, bqm, datacenter_state)\n",
    "    \n",
    "    bqm = minimize_power_consumption(variables, bqm, datacenter_state)\n",
    "    #bqm = maximize_sustainability(variables, bqm, datacenter_state)\n",
    "    \n",
    "    # We optimize the task allocation on virtual machines on the first optimization round\n",
    "    # After that we minimize migration cost of virtual machines\n",
    "    if first_run:\n",
    "        bqm = maximize_vm_utilization(variables, bqm, datacenter_state)\n",
    "    else:\n",
    "        bqm = minimize_migration_cost(variables, previous_state, bqm, datacenter_state)\n",
    "    \n",
    "    print(\"Number of quadratic terms\", len(bqm.quadratic))\n",
    "    #for q in list(bqm.quadratic)[:20]:\n",
    "    #    print(bqm.quadratic[q])\n",
    "    \n",
    "    device = \"LeapHybrid\"\n",
    "    if len(variables) < 100:\n",
    "        device = \"Simulated\"\n",
    "    print(\"Solving QUBO on\", device)\n",
    "    solution = solve(bqm, device)\n",
    "    print_solution(solution)\n",
    "    \n",
    "    response = construct_migration_map(solution)\n",
    "    \n",
    "    if first_run:\n",
    "        response = construct_task_allocation_map(solution)\n",
    "        \n",
    "    #response = {}\n",
    "    #for v in datacenter_state[\"vms\"]:\n",
    "    #    response[v] = v\n",
    "    \n",
    "    return response"
   ]
  },
  {
   "cell_type": "code",
   "execution_count": null,
   "id": "2f0214cd-05a4-4304-9f4c-3f6d80a1832b",
   "metadata": {},
   "outputs": [
    {
     "name": "stdout",
     "output_type": "stream",
     "text": [
      " * Serving Flask app '__main__' (lazy loading)\n",
      " * Environment: production\n",
      "\u001b[31m   WARNING: This is a development server. Do not use it in a production deployment.\u001b[0m\n",
      "\u001b[2m   Use a production WSGI server instead.\u001b[0m\n",
      " * Debug mode: off\n"
     ]
    },
    {
     "name": "stderr",
     "output_type": "stream",
     "text": [
      " * Running on http://127.0.0.1:1234/ (Press CTRL+C to quit)\n"
     ]
    },
    {
     "name": "stdout",
     "output_type": "stream",
     "text": [
      "The problem contains 8000 variables.\n",
      "Constructing qubo...\n",
      "Number of quadratic terms 4560000\n",
      "Solving QUBO on LeapHybrid\n"
     ]
    },
    {
     "name": "stderr",
     "output_type": "stream",
     "text": [
      "[2023-01-12 13:05:54,023] ERROR in app: Exception on / [POST]\n",
      "Traceback (most recent call last):\n",
      "  File \"C:\\Users\\valte\\AppData\\Local\\Programs\\Python\\Python310\\lib\\site-packages\\flask\\app.py\", line 2073, in wsgi_app\n",
      "    response = self.full_dispatch_request()\n",
      "  File \"C:\\Users\\valte\\AppData\\Local\\Programs\\Python\\Python310\\lib\\site-packages\\flask\\app.py\", line 1518, in full_dispatch_request\n",
      "    rv = self.handle_user_exception(e)\n",
      "  File \"C:\\Users\\valte\\AppData\\Local\\Programs\\Python\\Python310\\lib\\site-packages\\flask\\app.py\", line 1516, in full_dispatch_request\n",
      "    rv = self.dispatch_request()\n",
      "  File \"C:\\Users\\valte\\AppData\\Local\\Programs\\Python\\Python310\\lib\\site-packages\\flask\\app.py\", line 1502, in dispatch_request\n",
      "    return self.ensure_sync(self.view_functions[rule.endpoint])(**req.view_args)\n",
      "  File \"C:\\Users\\valte\\AppData\\Local\\Temp\\ipykernel_26752\\1923799858.py\", line 41, in optimize_allocation\n",
      "    solution = solve(bqm, device)\n",
      "  File \"C:\\Users\\valte\\AppData\\Local\\Temp\\ipykernel_26752\\2886451771.py\", line 14, in solve\n",
      "    sample = sampleset.first.sample\n",
      "  File \"C:\\Users\\valte\\AppData\\Local\\Programs\\Python\\Python310\\lib\\site-packages\\dimod\\sampleset.py\", line 890, in first\n",
      "    return next(self.data(sorted_by='energy', name='Sample'))\n",
      "  File \"C:\\Users\\valte\\AppData\\Local\\Programs\\Python\\Python310\\lib\\site-packages\\dimod\\sampleset.py\", line 1093, in data\n",
      "    record = self.record\n",
      "  File \"C:\\Users\\valte\\AppData\\Local\\Programs\\Python\\Python310\\lib\\site-packages\\dimod\\sampleset.py\", line 931, in record\n",
      "    self.resolve()\n",
      "  File \"C:\\Users\\valte\\AppData\\Local\\Programs\\Python\\Python310\\lib\\site-packages\\dimod\\sampleset.py\", line 1291, in resolve\n",
      "    samples = self._result_hook(self._future)\n",
      "  File \"C:\\Users\\valte\\AppData\\Local\\Programs\\Python\\Python310\\lib\\site-packages\\dwave\\cloud\\computation.py\", line 858, in <lambda>\n",
      "    self, lambda f: f.wait_sampleset())\n",
      "  File \"C:\\Users\\valte\\AppData\\Local\\Programs\\Python\\Python310\\lib\\site-packages\\dwave\\cloud\\computation.py\", line 790, in wait_sampleset\n",
      "    result = self._load_result()\n",
      "  File \"C:\\Users\\valte\\AppData\\Local\\Programs\\Python\\Python310\\lib\\site-packages\\dwave\\cloud\\computation.py\", line 928, in _load_result\n",
      "    raise self._exception\n",
      "  File \"C:\\Users\\valte\\AppData\\Local\\Programs\\Python\\Python310\\lib\\site-packages\\dwave\\cloud\\client\\base.py\", line 1446, in _handle_problem_status\n",
      "    raise SolverFailureError(errmsg)\n",
      "dwave.cloud.exceptions.SolverFailureError: Problem not accepted because user sardana.ivanova@helsinki.fi has insufficient remaining solver access time in project DEV\n",
      "127.0.0.1 - - [12/Jan/2023 13:05:54] \"POST / HTTP/1.1\" 500 -\n"
     ]
    }
   ],
   "source": [
    "app.run(port=1234)"
   ]
  },
  {
   "cell_type": "markdown",
   "id": "1196b374-3898-4893-87ec-955464184900",
   "metadata": {},
   "source": [
    "The solution to the optimization problem is a new allocation of tasks into virtual machines and virtual machines to physical machines. This allocation is represented as a migration map. Unfortunately CloudSim does not implement reallocation of tasks during running simulation so task-virtual machine allocation stays the same after the initial allocation. Thus the migration map describes just virtual machine to physical machine allocation."
   ]
  }
 ],
 "metadata": {
  "kernelspec": {
   "display_name": "Python 3 (ipykernel)",
   "language": "python",
   "name": "python3"
  },
  "language_info": {
   "codemirror_mode": {
    "name": "ipython",
    "version": 3
   },
   "file_extension": ".py",
   "mimetype": "text/x-python",
   "name": "python",
   "nbconvert_exporter": "python",
   "pygments_lexer": "ipython3",
   "version": "3.10.8"
  }
 },
 "nbformat": 4,
 "nbformat_minor": 5
}
